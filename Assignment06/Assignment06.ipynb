{
 "cells": [
  {
   "cell_type": "markdown",
   "id": "935a59da-16e6-4fcc-98bf-29f92aa3f28d",
   "metadata": {},
   "source": [
    "# Shakespeare word frequency\n",
    "\n",
    "- Make a Python string that contains the text of a Shakespeare play (obtained, for example, from Project Gutenberg)\n",
    "- You can use requests and BeautifulSoup to get the text or you can read in the content from a file, but do not copy the entire play into a notebook cell\n",
    "- Tokenize the words and remove stopwords\n",
    "- Find the top 20 most frequent words in the play\n",
    "- Comment on whether these words give an accurate sense of the play"
   ]
  },
  {
   "cell_type": "code",
   "execution_count": 37,
   "id": "ace3ed47-aa2b-48a7-bcb4-08300f66fe11",
   "metadata": {},
   "outputs": [],
   "source": [
    "import nltk\n",
    "from nltk.tokenize import word_tokenize, sent_tokenize"
   ]
  },
  {
   "cell_type": "code",
   "execution_count": 26,
   "id": "f9ab2941-c93b-44a3-9bf2-80734058f9f6",
   "metadata": {},
   "outputs": [],
   "source": [
    "# Read the file that contains text of Romeo and Julie\n",
    "f = open(\"romeo-and-juliet.txt\", \"r\")\n",
    "text = f.read()"
   ]
  },
  {
   "cell_type": "markdown",
   "id": "e84d6f54-ddf0-48b3-ab6c-c1e38ade37f5",
   "metadata": {
    "jp-MarkdownHeadingCollapsed": true,
    "tags": []
   },
   "source": [
    "## Tokenize the words and remove stopwords"
   ]
  },
  {
   "cell_type": "code",
   "execution_count": 27,
   "id": "cf9adf84-eb3e-4778-a729-94ebe1276ff5",
   "metadata": {},
   "outputs": [
    {
     "name": "stdout",
     "output_type": "stream",
     "text": [
      "['ACT', 'I', 'Scene', 'I', '.']\n"
     ]
    }
   ],
   "source": [
    "# Tokenize the words\n",
    "sent = sent_tokenize(text)\n",
    "print(word_tokenize(sent[1]))"
   ]
  },
  {
   "cell_type": "code",
   "execution_count": 29,
   "id": "26fc4bc4-fb00-446e-83ff-9d15f22ee2a3",
   "metadata": {},
   "outputs": [],
   "source": [
    "words = []\n",
    "for s in sent:\n",
    "    for w in word_tokenize(s):\n",
    "        words.append(w)"
   ]
  },
  {
   "cell_type": "code",
   "execution_count": 30,
   "id": "50eedaf6-9cd4-4fb9-925d-3911b1be6f12",
   "metadata": {},
   "outputs": [
    {
     "name": "stderr",
     "output_type": "stream",
     "text": [
      "[nltk_data] Downloading package stopwords to /home/jovyan/nltk_data...\n",
      "[nltk_data]   Package stopwords is already up-to-date!\n"
     ]
    },
    {
     "data": {
      "text/plain": [
       "True"
      ]
     },
     "execution_count": 30,
     "metadata": {},
     "output_type": "execute_result"
    }
   ],
   "source": [
    "# remove stopwords\n",
    "from nltk.corpus import stopwords\n",
    "from string import punctuation\n",
    "nltk.download('stopwords')"
   ]
  },
  {
   "cell_type": "code",
   "execution_count": 52,
   "id": "0d862bb3-ac1b-488f-b505-93c3c9cc670c",
   "metadata": {},
   "outputs": [
    {
     "name": "stdout",
     "output_type": "stream",
     "text": [
      "!\"#$%&'()*+,-./:;<=>?@[\\]^_`{|}~\n"
     ]
    }
   ],
   "source": [
    "print(punctuation)"
   ]
  },
  {
   "cell_type": "code",
   "execution_count": 54,
   "id": "8a5106af-7643-48f0-9d91-efbb327f1537",
   "metadata": {},
   "outputs": [],
   "source": [
    "myStopWords = list(punctuation) + stopwords.words('english') + ['’']\n",
    "wordsNoStop = [w for w in words if w not in myStopWords]"
   ]
  },
  {
   "cell_type": "markdown",
   "id": "edcf6fcd-e84c-4851-b068-7eddf1704e38",
   "metadata": {},
   "source": [
    "## Find top 20 most frequent words in play"
   ]
  },
  {
   "cell_type": "code",
   "execution_count": 55,
   "id": "8dccf040-6f8f-45e1-95a0-ea0a9c9df8d8",
   "metadata": {},
   "outputs": [],
   "source": [
    "# Find words frequency\n",
    "wordsFreq = dict()\n",
    "for w in wordsNoStop:\n",
    "    if w not in wordsFreq:\n",
    "        wordsFreq[w] = 0\n",
    "    wordsFreq[w] += 1"
   ]
  },
  {
   "cell_type": "code",
   "execution_count": 57,
   "id": "d91b05ea-1703-48b9-b0cc-864444ad05fc",
   "metadata": {},
   "outputs": [
    {
     "data": {
      "text/plain": [
       "['ROMEO',\n",
       " 'JULIET',\n",
       " 'I',\n",
       " 'A',\n",
       " 'Romeo',\n",
       " 'CAPULET',\n",
       " 'NURSE',\n",
       " 'The',\n",
       " 'love',\n",
       " 'And',\n",
       " 'What',\n",
       " 'shall',\n",
       " 'But',\n",
       " 'thou',\n",
       " 'To',\n",
       " 'That',\n",
       " 'thee',\n",
       " 'thy',\n",
       " 'O',\n",
       " 'Project']"
      ]
     },
     "execution_count": 57,
     "metadata": {},
     "output_type": "execute_result"
    }
   ],
   "source": [
    "# Get all the count frequencies and sort\n",
    "values = list(wordsFreq.values())\n",
    "values.sort(reverse=True)\n",
    "\n",
    "top20 = values[:20]\n",
    "top20words = [key for key, value in wordsFreq.items() if value in top20]\n",
    "top20words"
   ]
  },
  {
   "cell_type": "markdown",
   "id": "df7bd12c-10e1-4171-a435-21e5d4c542df",
   "metadata": {},
   "source": [
    "**Comment on top 20 most frequent words:**\n",
    "\n",
    "- These 20 most frequent words make sense as it includes the characters' names like Romeo and Juliet, and many old English words liek \"thee\", \"thy\", \"thou\", and also other words that related to the theme of the play like \"Love\".\n",
    "- Words like \"The\", \"What\", \"But\", \"shall\", \"That\", \"To\", \"I\" also makes sense that they appear frequently since their common pronouns, propositions, and adverbs that would appear in regular speech for the play."
   ]
  },
  {
   "cell_type": "markdown",
   "id": "27d577fe-04ea-4879-aa6f-649c7870f5a0",
   "metadata": {},
   "source": [
    "# Yelp sentiments\n",
    "\n",
    "- Find your favorite restaurant on Yelp and copy 15 of its reviews into your notebook as Python strings\n",
    "- You don't have to use requests for this, you can just copy and paste from a browser\n",
    "- Also note the numbers of stars for each review in your notebook\n",
    "- Use Vader to find the polarity of each review\n",
    "- Compare Vader's scores against user-specified numbers of stars"
   ]
  },
  {
   "cell_type": "markdown",
   "id": "f8e75bf7-c0cb-4478-b497-0c203c1cc766",
   "metadata": {
    "tags": []
   },
   "source": [
    "## 15 Reviews and Stars of Marugame Udon"
   ]
  },
  {
   "cell_type": "code",
   "execution_count": 31,
   "id": "05dd4ecd-f00d-4f25-9c53-cf30d840b48c",
   "metadata": {},
   "outputs": [],
   "source": [
    "review1 = '''\n",
    "This places makes me want to move to LA. There's so many simple but delicious Asian restaurants, and this is one of them. You pick your flavor of udon and they hand it to you right there, and you move down the line to pick your choice of tempura.\n",
    "\n",
    "I got the nikutama curry udon and my partner got the tonkotsu. I loved the curry udon but WOW the broth on the tonkotsu was so delicious. Would highly recommend the tonkotsu if you love bold flavors. I loved the beef and the egg on the nikutama though. The regular was more than enough for both of us, especially with the added tempura. The shrimp and potato croquette tempura were my favorite, and we also got the chicken katsu one that was really good as well.\n",
    "\n",
    "I would definitely come back the next time I'm in LA.\n",
    "'''\n",
    "review2 = '''\n",
    "A staple restaurant.\n",
    "\n",
    "Marugame has been a go-to since my college days. \"Conveyer\" belt udon with tempura of your choice.\n",
    "\n",
    "My favorite has always been the Mentai Kamatama ($8.25 for regular size). It's more of a dry udon dish with minimal sauce and pollock roe. The flavor is clean but still savory and memorable. The crunchy tempura crisps and green onion toppings add another level of umami to the dish.\n",
    "\n",
    "In terms of the tempura, highly recommend the ebi (shrimp). The batter is light and you can still taste the sweetness of the shrimp. I also tried the potato croquette, squid, and chicken tempura. The shrimp is still the best followed by the chicken, potato, then squid.\n",
    "\n",
    "That being said, Marugame Udon is definitely a restaurant you should try and come back to more than once.\n",
    "'''\n",
    "review3 = '''\n",
    "This was my first time at Marugame in a while. Everywhere else had long wait times,  but Marugame had a short line and quick service when I went.\n",
    "\n",
    "FLAVOR (3.5/5):\n",
    "Kitsune Udon: The Kitsune Udon is a solid choice when going to Marugame. The tofu is sweet (a bit too sweet for my liking), but it's a light dish that still leaves you full at the end of the meal. I also got the potato croquette, and it had a sweet flavor. If I were to come back, I'd definitely want to try the Curry Udon.\n",
    "\n",
    "In terms of sides, I wish there were more options besides the tempura or maybe just more types of tempura. But overall, I was satisfied.\n",
    "\n",
    "TAKEAWAYS:\n",
    "If you're looking for a quick place to eat dinner when the rest of Sawtelle is bustling, Marugame is a good spot to go to. Not my first pick, but a decent one.\n",
    "'''\n",
    "review4 = '''\n",
    "As the biggest udon fan, I love Marugame! The line moves swift and you're able to get your udon super fast. It's so convenient to step into line, grab the tempura and croquettes you want, pay at the counter, and eat your meal to your heart's content at your own speed.\n",
    "\n",
    "I ordered the Nikutama udon and the meat is so flavorful! Paired with the bouncy udon noodles, it makes for an amazing meal. Even though I got a small, I was so full by the end of it.\n",
    "\n",
    "I also got the shrimp tempura and potato croquette and both were perfectly crispy.\n",
    "\n",
    "Would come here again and again -- highly recommend if you're in Sawtelle!\n",
    "'''\n",
    "review5 = '''\n",
    "Throughout my years of college, Marugame is probably the most frequented restaurant, not only on Sawtelle but just generally. This is because it's super convenient. Line moves fast, food comes quick, and is always a solid meal. In my many visits to Marugame, I usually get the Nikutama and I don't really get tired of it. I'm also always a bit worried about trying something new because I've never liked other udons as much as the Nikutama.\n",
    "This time, I tried the curry nikutama. I am not sure why, but the flavor of the curry nikutama was just not what I was expecting. While it wasn't bad, I don't think I would get it again. Their menu is also not very vast, which can be a plus or not depending on what you like.\n",
    "\n",
    "I wish I could give it 5 stars, but I have noticed the pricing increase a lot recently, which is kinda disappointing since we often go to Marugame expecting a cheaper meal. I paid ~$17 for the curry nikutama + a potato croquette.\n",
    "'''\n",
    "review6 = '''\n",
    "I mean... you can't go wrong with a $5.5 hearty bowl of udon. For a regular size, it is FILLING and very affordable! With the tempura sides that you can pick to your heart's content, it's a very satisfying meal. The assembly style of ordering is quick, convenient, and practical. Very reminiscent of the udon fast-food chains in Japan.\n",
    "\n",
    "I've been here a number of times, and even when the line's long, it goes by relatively quickly. On a Thursday around 7:30PM, there was virtually no wait.\n",
    "\n",
    "If it's your first time here, you can't go wrong with a simple Kake (dashi broth). I added their new Gekikara Fireball for 0.50 cents, and it was worth if you like spice. I only added half and it was more than enough kick.\n",
    "\n",
    "I don't recommend the curry imo, as I remember it being lackluster in flavor, and salty if anything.\n",
    "\n",
    "My personal favorite tempura add-ons; a bit pricey, albeit a must:  \n",
    "- Shrimp ($2.25) - a staple!\n",
    "- Squid ($2.25) - crunchy on the outside, and juicy and chewy on the inside.\n",
    "- Sweet Potato ($1.95) - every so slightly sweet to cut the savory.\n",
    "- Potato Croquette ($2.25) - thiccc. Think Japanese french fry LOL\n",
    "\n",
    "Despite being self-service - shout-out to the busboys who clear the tables so quickly!!\n",
    "\n",
    "I look forward to trying their Kitsune (sweet fried tofu) one day and for when they bring back the self-service toppings station especially the tempura bits!\n",
    "'''\n",
    "review7 = '''\n",
    "This place was great! I came in on a Sunday at 4:30pm and there was no line and plenty of seating. (When we left around 5:30 the line was out the door).  The way it was set up was similar to a cafeteria line. I ordered the tonkatsu with all the fixings ~green onion and tempura flakes~ along with some tempura mushrooms and shrimp skewers. I also got the ginger berry oolong tea what they make in house.\n",
    "\n",
    "I liked how they had a little bar area for chili, ginger, tempura sauce and water as well as a self serve to-go box/bag area. Since there wasn't any table service, you sat yourselves and brought your finished meals to the cleaning area as well. The bathrooms were also very clean.\n",
    "\n",
    "Moving onto the food, the noodles were very chewy and cooked perfectly. I enjoyed the broth from the tonkatsu since it was really rich to where the noodles soaked up all that flavor. I especially liked the mushroom tempura since they were very juicy. One thing I wish they had was soy sauce since I like my tempura with soy sauce since it has a stronger flavor than the tempura sauce offered, but that is just a personal preference. Overall this place was very good, probably the next udon place I've been to yet.\n",
    "'''\n",
    "review8 = '''\n",
    "I love the nikutama udon here! I tried the curry one and I still prefer the original nikutama. They do require proof of vaccination if you're dining in or outside in the patio.\n",
    "\n",
    "Their udon is always so chewy and yummy! My fav part is the meat and I'm full off a regular bowl!! They also have tempura if you're in the mood for some of that. It's cafeteria style and the line typically goes by fast if theyre busy.\n",
    "'''\n",
    "review9 = '''\n",
    "I am from OC, and before they opened one in costa mesa, I would come here an unhealthy amount of times. Like everytime I planned a trip to LA, I would make sure I came to Marugame Udon for some delicious beef udon and tempura. I dont know what else to say, but they have the best udon I have ever tried. The egg is literally to die for and the way they crack it in your bowl and you see it just floating on top of your bowl is crazy to me. They put a good amount of meat in your bowl and I just inhale my meal everytime i eat here. You have to add green onions, tempura, and chilli powder to your udon because those toppings are what makes it more flavorful and savory.\n",
    "\n",
    "For parking, you can park in the structure, it is super cheap if you only come to eat for a bit, I usually pay around $2 or something, so its not one of those super expensive LA parking structures. They have more locations now so it is not just the one in Sawtelle. I am so glad there's one in OC and I dont have to drive an hour to get some delicious udon!\n",
    "'''\n",
    "review10 = '''\n",
    "Noodles... IYKYK... noodles are my THING.  And these were some of the very best.  I hate to even compare to my local Udon spot, but this place killed it.  The noodles were incredibly fresh (tender with the perfect bite!)  and the broth was on point. The regular Kake Udon was the best example of traditional Udon Ive had in a minute! I got the BK udon and added a spring egg- just fantastic.   They constantly making tempura and so the tempura flakes are fresh and really crispy. I truly almost went  back for lunch today- twice in 2 days?? THATS HOW GOOD IT WAS.\n",
    "\n",
    "Currently requiring vaxx proof for dine in, and offering togo containers for people without.  Cafeteria style ordering.    Really have all the utensils, lids, containers readily accessible- so nice so we could take our leftovers back to the hotel.\n",
    "'''\n",
    "review11 = '''\n",
    "Come here for comforting, authentic udon and more deep fried sides you can shake your chopsticks at. After one bad experience the noodles are always chewy and boiled the right amount. It's hard to choose which bowl to get but a L is just $1 more than the Regular size.\n",
    "\n",
    "Love the curry udon although the curry is thick like gravy. Even if there's a long line out the door, the wait isn't that long. It's always clean and they have outdoor seating. One request though, lower tables as the booth like seats are too low for me.\n",
    "\n",
    "For Covid precautions they ask you while ordering if you want chopped scallions and fried batter bits but the toppings station still has water, soy sauce and hot sauce.\n",
    "'''\n",
    "review12 = '''\n",
    "I've past by this place so many times and saw the long lines. I finally decided to try this place out. It turns out that its not a restuarant, but kind of like a convenience store style shop. I got a tonkotsu ramen.\n",
    "\n",
    "The broth was very flavorful and the udon noodles were chewy and springy. I loved the addition of the tempura flakes, spicy meat, and green onions. They gave the broth a nice kick and the flakes added texture. The slice of meat was soft and slightly fatty, which is how I like it. My only complaint was that the egg was overly cooked.\n",
    "\n",
    "Overall, the food was delicious and not too expensive. Seating was a bit difficult since the place is generally packed.\n",
    "'''\n",
    "review13 = '''\n",
    "I don't have udon very often... but Marguame is one of the best I've had. The food was definitely worth all 5 stars, but that line... There's gotta be a faster or more efficient way to tame that line. Although we did not wait over an hour, I've heard horror stories of such waits. I mean the food is worth checking out, but the long lines may deter people from trying. It did move quickly, but I can see it getting crazyyy.\n",
    "\n",
    "It is a cafeteria type of restaurant, soups/bowls first then the sides. Which I think they should switch up... Cause once I sat down the soup wasn't as hot. The sides included: shrimp, squid, chicken & veggies ALL dipped in tempura batter. They did have a chicken katsu type which I didn't get to try. For my bowl I got the Nikatuma which included beef, egg & BK sauce (couldn't tell ya what this is haha) [$10.95- Regular; $12.50-Large] Believe me, that udon was sooo good & filling, I could not finish my regular bowl! The meat reminded me of Yoshina meat- which was always on point- IYKYK! We tried the shrimp, squid & chicken tempura sides and it was also really good, nothing too special about it.\n",
    "\n",
    "If Udon isn't your thing, they do have chicken or beef rice bowls which I heard were really great too. I'll have to try that next time. Yes, there will be a next time, just hoping for a shorter line! Lots of seating inside & a few tables on their patio. As of writing this review, MASKS are required inside & PROOF OF VAX to enter will be needed.\n",
    "'''\n",
    "review14 = '''\n",
    "I love Marugame! I've been here multiple times now and the food is sooo good. It starts off cafeteria style. You basically pick what noodles you want, move on to picking out tempura (if you want any), then drinks. You pay and then pick up condiments and cutlery after. One of the reasons why I love Marugame is you get your food instantly.\n",
    "\n",
    "I always get the curry udon. The noodles are fresh and springy. For dinner, make sure you get there around 5:30-6pm which is before the dinner rush. After and you will have to wait in a long line. (But the line does move quickly)\n",
    "'''\n",
    "review15 = '''\n",
    "We ordered the Tonkatsu and the Curry Nikutama. Both great flavors, fresh handmade udon noodles. Loved the Tonkatsu broth!!! My only complaint is that the soft boiled egg in the Tonkatsu bowl was hard boiled. (I'm used to soft boiled eggs but maybe it's supposed to be hard boiled?) There wasn't a long line like the ones in Honolulu. We got in very quickly.\n",
    "'''\n",
    "review16 = '''\n",
    "Cafeteria style of ordering. You wait in line and get a tray. Order your soup and along the way check out the tempura section for any pieces you might want before you pay.\n",
    "\n",
    "With COVID, there's no longer a self serve of green onions, tempura, ginger, etc. You have to request for it.\n",
    "\n",
    "For  reasonably price udon, it hits the spot for fast casual.\n",
    "\n",
    "The only thing that can give you the most trouble is the parking. In Sawtelle area, you hit gold to find parking since everything is nearly street parking.\n",
    "'''\n",
    "\n",
    "REVIEWS = [\n",
    "    review1,\n",
    "    review2,\n",
    "    review3,\n",
    "    review4,\n",
    "    review6,\n",
    "    review7,\n",
    "    review8,\n",
    "    review9,\n",
    "    review10,\n",
    "    review11,\n",
    "    review12,\n",
    "    review13,\n",
    "    review14,\n",
    "    review15,\n",
    "    review16\n",
    "]"
   ]
  },
  {
   "cell_type": "code",
   "execution_count": 32,
   "id": "48e0e9c4-bc7f-4cc1-a358-1cc079f3ca8e",
   "metadata": {},
   "outputs": [],
   "source": [
    "STARS = { \n",
    "    1: 5,\n",
    "    2: 4,\n",
    "    3: 4,\n",
    "    4: 4,\n",
    "    5: 4,\n",
    "    6: 5,\n",
    "    7: 5,\n",
    "    8: 5,\n",
    "    9: 5,\n",
    "    10: 5,\n",
    "    11: 4,\n",
    "    12: 5,\n",
    "    13: 4,\n",
    "    14: 5,\n",
    "    15: 4,\n",
    "    16: 4\n",
    "}"
   ]
  },
  {
   "cell_type": "markdown",
   "id": "80564997-2523-43dd-9ef6-828c5c3220eb",
   "metadata": {},
   "source": [
    "## Using Vader to find Polarity and compare with stars specified"
   ]
  },
  {
   "cell_type": "code",
   "execution_count": 38,
   "id": "70b9477a-b855-4ade-bd22-86fc805f658f",
   "metadata": {},
   "outputs": [
    {
     "name": "stderr",
     "output_type": "stream",
     "text": [
      "[nltk_data] Downloading package vader_lexicon to\n",
      "[nltk_data]     /home/jovyan/nltk_data...\n",
      "[nltk_data]   Package vader_lexicon is already up-to-date!\n"
     ]
    },
    {
     "data": {
      "text/plain": [
       "True"
      ]
     },
     "execution_count": 38,
     "metadata": {},
     "output_type": "execute_result"
    }
   ],
   "source": [
    "from nltk.sentiment import vader\n",
    "nltk.download('vader_lexicon')"
   ]
  },
  {
   "cell_type": "code",
   "execution_count": 39,
   "id": "dabf5d27-a03c-42e9-bc34-b2e0abd2f086",
   "metadata": {},
   "outputs": [],
   "source": [
    "sia = vader.SentimentIntensityAnalyzer()"
   ]
  },
  {
   "cell_type": "code",
   "execution_count": 40,
   "id": "1b09b9e8-fa83-40db-bfef-c8504581f090",
   "metadata": {},
   "outputs": [
    {
     "name": "stdout",
     "output_type": "stream",
     "text": [
      "15\n"
     ]
    }
   ],
   "source": [
    "print(len(REVIEWS))"
   ]
  },
  {
   "cell_type": "code",
   "execution_count": 41,
   "id": "8b7620f3-a342-482a-8743-5e2d41a4d3e6",
   "metadata": {},
   "outputs": [
    {
     "name": "stdout",
     "output_type": "stream",
     "text": [
      "Vader's polarity score for review 1\n",
      "{'neg': 0.0, 'neu': 0.68, 'pos': 0.32, 'compound': 0.9965}\n",
      "User specified stars: 5\n",
      "--------------------------------------\n",
      "Vader's polarity score for review 2\n",
      "{'neg': 0.0, 'neu': 0.855, 'pos': 0.145, 'compound': 0.969}\n",
      "User specified stars: 4\n",
      "--------------------------------------\n",
      "Vader's polarity score for review 3\n",
      "{'neg': 0.0, 'neu': 0.816, 'pos': 0.184, 'compound': 0.9834}\n",
      "User specified stars: 4\n",
      "--------------------------------------\n",
      "Vader's polarity score for review 4\n",
      "{'neg': 0.011, 'neu': 0.792, 'pos': 0.197, 'compound': 0.9744}\n",
      "User specified stars: 4\n",
      "--------------------------------------\n",
      "Vader's polarity score for review 5\n",
      "{'neg': 0.025, 'neu': 0.85, 'pos': 0.125, 'compound': 0.9727}\n",
      "User specified stars: 4\n",
      "--------------------------------------\n",
      "Vader's polarity score for review 6\n",
      "{'neg': 0.007, 'neu': 0.866, 'pos': 0.127, 'compound': 0.9683}\n",
      "User specified stars: 5\n",
      "--------------------------------------\n",
      "Vader's polarity score for review 7\n",
      "{'neg': 0.0, 'neu': 0.834, 'pos': 0.166, 'compound': 0.9364}\n",
      "User specified stars: 5\n",
      "--------------------------------------\n",
      "Vader's polarity score for review 8\n",
      "{'neg': 0.053, 'neu': 0.78, 'pos': 0.167, 'compound': 0.9829}\n",
      "User specified stars: 5\n",
      "--------------------------------------\n",
      "Vader's polarity score for review 9\n",
      "{'neg': 0.05, 'neu': 0.716, 'pos': 0.234, 'compound': 0.9883}\n",
      "User specified stars: 5\n",
      "--------------------------------------\n",
      "Vader's polarity score for review 10\n",
      "{'neg': 0.072, 'neu': 0.794, 'pos': 0.134, 'compound': 0.8979}\n",
      "User specified stars: 5\n",
      "--------------------------------------\n",
      "Vader's polarity score for review 11\n",
      "{'neg': 0.045, 'neu': 0.81, 'pos': 0.145, 'compound': 0.94}\n",
      "User specified stars: 4\n",
      "--------------------------------------\n",
      "Vader's polarity score for review 12\n",
      "{'neg': 0.027, 'neu': 0.836, 'pos': 0.137, 'compound': 0.9874}\n",
      "User specified stars: 5\n",
      "--------------------------------------\n",
      "Vader's polarity score for review 13\n",
      "{'neg': 0.012, 'neu': 0.825, 'pos': 0.163, 'compound': 0.9468}\n",
      "User specified stars: 4\n",
      "--------------------------------------\n",
      "Vader's polarity score for review 14\n",
      "{'neg': 0.112, 'neu': 0.793, 'pos': 0.094, 'compound': 0.353}\n",
      "User specified stars: 5\n",
      "--------------------------------------\n",
      "Vader's polarity score for review 15\n",
      "{'neg': 0.07, 'neu': 0.898, 'pos': 0.033, 'compound': -0.5413}\n",
      "User specified stars: 4\n",
      "--------------------------------------\n"
     ]
    }
   ],
   "source": [
    "i = 1\n",
    "for review in REVIEWS:\n",
    "    print(\"Vader's polarity score for review\", i)\n",
    "    print(sia.polarity_scores(review))\n",
    "    print(\"User specified stars:\", STARS[i])\n",
    "    print(\"--------------------------------------\")\n",
    "    i += 1"
   ]
  },
  {
   "cell_type": "markdown",
   "id": "3cee8f4a-c8ff-41a8-8a89-d4e0c2e874ad",
   "metadata": {},
   "source": [
    "**Comment on Polarity comparison:**\n",
    "- Most reviews with 5 stars were analyzed by Vader with mostly neutral words and additions towards positive and 0 negative.\n",
    "- On the other hand, the reviews with 4 stars have higher negative polarity scores and less positive scores, but still mostly remained in the neutral range.\n",
    "- Overall, most of Vader's output primarily stays within the neutral range score and rarely are overwhelmingly negative nor positive."
   ]
  },
  {
   "cell_type": "markdown",
   "id": "6149b149-b104-46c6-b487-01a53a60dae9",
   "metadata": {},
   "source": [
    "# Movie reviews\n",
    "\n",
    "- Make 5 strings that contain reviews (3 sentences each) of your favorite movie comedies\n",
    "- Make 5 strings that contain reviews (3 sentence each) of your favorite movie dramas\n",
    "- Make a Python list that contains these 10 strings\n",
    "- Replicate the analysis pipeline from \"04_news_topics.ipynb\"\n",
    "- You don't have to open any files\n",
    "- Instead of using \"listOfNews\", use your list of movie reviews\n",
    "- Modify the characters in \"extrastop\" if you want to\n",
    "- For the LDA model step, use \"num_topics = 2\"\n",
    "- Comment on the words that the model chooses to represent the 2 topics, and whether they match with your split between comedies and dramas"
   ]
  },
  {
   "cell_type": "markdown",
   "id": "98cff0d9-c3a1-47e1-ac2a-d21e6ebe0fec",
   "metadata": {},
   "source": [
    "## Strings of Reviews for Mean Girls and West Side Story"
   ]
  },
  {
   "cell_type": "code",
   "execution_count": 1,
   "id": "91b167ea-7f51-4435-90a5-48da663ac76d",
   "metadata": {},
   "outputs": [],
   "source": [
    "com1 = '''\n",
    "I give this a five star i absolutely love this movie, it is my favorite thing to watch i literally watch it EVERY DAY WHEN I GET THE CHANCE!! I absolutely love it. Its the best thing ever And if you are reading this look at my profile picture on the top. ITS LITERALLY REGINA GEORGE! That is literally how much i love the movie.\n",
    "'''\n",
    "\n",
    "com2 = '''\n",
    "My favorite character is Regina George, although she is nice in front of your face she will talk behind your back, and honestly, I think that is a definition of a mean girl. They did a really great job with giving the characters a whole lot of personality and sort of showing why they act the way they do. I still wish to this day that there was a sequel, even though this was so long ago.\n",
    "'''\n",
    "\n",
    "com3 = '''\n",
    "I absolutely love this movie! I am in middle school and at sleepovers this is one of our go-to movies. It has the drama, the comedy, and overall entertainment. \n",
    "'''\n",
    "\n",
    "com4 = '''\n",
    "The characters, for one, are really interesting and all the actors and actresses did such great performances. The story was also interesting and I never  lost interest in it. The comedy is spot on and first going into it I did not think I'd be laughing so hard.\n",
    "'''\n",
    "\n",
    "com5 = '''\n",
    "one of my  fave movies ever. very quotable and realistic. i still watch it when im free. its a classic and an unforgettable movie.\n",
    "'''"
   ]
  },
  {
   "cell_type": "code",
   "execution_count": 2,
   "id": "859923bd-c4e2-4ade-98aa-799c242578ba",
   "metadata": {},
   "outputs": [],
   "source": [
    "drama1 = '''\n",
    "If you are thinking of watching this movie, grab the tissues. There are so many plot twists!!\n",
    "I know this film is obviously based off of the original Shakespearean play, Romeo and Juliet.\n",
    "'''\n",
    "\n",
    "drama2 = '''\n",
    "The previous film version was more of the stage version on the screen. Filmed on sets. By bringing it to the street of New York City, it enables this film to use the city as a character and accurately represent the plight of immigrants in the 50s and that still resonates to this day.\n",
    "'''\n",
    "\n",
    "drama3 = '''\n",
    "And yet, as revered as that 1961 adaptation is, it is not without its faults, notably the casting of white actors as Latinx characters and a pair of romantic leads (Natalie Wood and Richard Beymer) who don’t sing and are arguably the weakest members of an otherwise ace cast. Adam and Josh make the case that with his thrilling new adaptation, Spielberg more than answers the why, without necessarily fixing all of the earlier film’s weaknesses. Plus a review of Sean Baker’s latest, RED ROCKET, which has Simon Rex’s former adult film star making an ignominious return to his Texas hometown.\n",
    "'''\n",
    "\n",
    "drama4 = '''\n",
    "Spielberg does the impossible here (make a great new film adaptation of a classic stage musical that already had a classic film adaptation) and nearly all of the changes/ updates work. Hell even some of the new stagings are even better here (\"Cool\" and \"I Feel Pretty\"). Apparently Spielberg's old school craftsmanship is exactly what the movie musical needed.\n",
    "'''\n",
    "\n",
    "drama5 = '''\n",
    "Having seen the original moving several times and having heard the original B'way recording, seeing this version was like seeing an entirely new fantastic movie. Including the redevelopment of the actual neighborhood area as the backdrop for the movie gave it gravitas. Thank you to all involved for giving us a wonderful movie.\n",
    "'''"
   ]
  },
  {
   "cell_type": "markdown",
   "id": "ceb03f77-647b-4ee3-8177-5bf3e0100b69",
   "metadata": {},
   "source": [
    "## Pipeline for LDA model"
   ]
  },
  {
   "cell_type": "code",
   "execution_count": 42,
   "id": "dd092d6c-b893-4753-937e-e8371afc4312",
   "metadata": {},
   "outputs": [
    {
     "name": "stdout",
     "output_type": "stream",
     "text": [
      "10\n"
     ]
    }
   ],
   "source": [
    "listOfReviews = [com1, com2, com3, com4, com5, drama1, drama2, drama3, drama4, drama5]\n",
    "print(len(listOfReviews))"
   ]
  },
  {
   "cell_type": "code",
   "execution_count": 5,
   "id": "3c662ed9-daaf-4a5b-9a05-ec28542dce5d",
   "metadata": {},
   "outputs": [],
   "source": [
    "import pandas as pd\n",
    "from pathlib import Path  \n",
    "import glob\n",
    "\n",
    "from nltk.tokenize import sent_tokenize, word_tokenize\n",
    "from nltk.corpus import stopwords\n",
    "from string import punctuation"
   ]
  },
  {
   "cell_type": "code",
   "execution_count": 6,
   "id": "fe3ca20a-a2e6-4c32-9b6f-862e5172d304",
   "metadata": {},
   "outputs": [],
   "source": [
    "extrastop = ['``',\"''\",\"'re\",\"'s\",\"'re\",'``',\"''\",\"'ll\",\"--\",\"\\'\\'\",\"...\",\n",
    "             \"n\\'t\",'one','would','use','subject','from',\"\\'m\",\"\\'ve\"]"
   ]
  },
  {
   "cell_type": "code",
   "execution_count": 7,
   "id": "2852c6cd-6272-4495-804b-2346f68be926",
   "metadata": {},
   "outputs": [],
   "source": [
    "myStopWords = list(punctuation) + stopwords.words('english') + extrastop"
   ]
  },
  {
   "cell_type": "code",
   "execution_count": 8,
   "id": "25cbb2b8-5ae7-48d7-9b45-99d383615dba",
   "metadata": {},
   "outputs": [
    {
     "data": {
      "text/plain": [
       "['give',\n",
       " 'five',\n",
       " 'star',\n",
       " 'absolutely',\n",
       " 'love',\n",
       " 'movie',\n",
       " 'favorite',\n",
       " 'thing',\n",
       " 'watch',\n",
       " 'literally',\n",
       " 'watch',\n",
       " 'every',\n",
       " 'day',\n",
       " 'get',\n",
       " 'chance',\n",
       " 'absolutely',\n",
       " 'love',\n",
       " 'best',\n",
       " 'thing',\n",
       " 'ever',\n",
       " 'reading',\n",
       " 'look',\n",
       " 'profile',\n",
       " 'picture',\n",
       " 'top',\n",
       " 'literally',\n",
       " 'regina',\n",
       " 'george',\n",
       " 'literally',\n",
       " 'much',\n",
       " 'love',\n",
       " 'movie']"
      ]
     },
     "execution_count": 8,
     "metadata": {},
     "output_type": "execute_result"
    }
   ],
   "source": [
    "[w for w in word_tokenize(listOfReviews[0].lower()) if w not in myStopWords]"
   ]
  },
  {
   "cell_type": "code",
   "execution_count": 9,
   "id": "cca111c7-e6e1-4d89-ab57-9bd2de239cb1",
   "metadata": {},
   "outputs": [],
   "source": [
    "listOfReviewsWords = []\n",
    "for i in listOfReviews:\n",
    "    listOfReviewsWords.append([w for w in word_tokenize(i.lower()) if w not in myStopWords])"
   ]
  },
  {
   "cell_type": "code",
   "execution_count": 10,
   "id": "6c5bba9f-fe5d-4b76-afda-00d9909ce3d8",
   "metadata": {},
   "outputs": [
    {
     "data": {
      "text/plain": [
       "['give',\n",
       " 'five',\n",
       " 'star',\n",
       " 'absolutely',\n",
       " 'love',\n",
       " 'movie',\n",
       " 'favorite',\n",
       " 'thing',\n",
       " 'watch',\n",
       " 'literally',\n",
       " 'watch',\n",
       " 'every',\n",
       " 'day',\n",
       " 'get',\n",
       " 'chance',\n",
       " 'absolutely',\n",
       " 'love',\n",
       " 'best',\n",
       " 'thing',\n",
       " 'ever',\n",
       " 'reading',\n",
       " 'look',\n",
       " 'profile',\n",
       " 'picture',\n",
       " 'top',\n",
       " 'literally',\n",
       " 'regina',\n",
       " 'george',\n",
       " 'literally',\n",
       " 'much',\n",
       " 'love',\n",
       " 'movie']"
      ]
     },
     "execution_count": 10,
     "metadata": {},
     "output_type": "execute_result"
    }
   ],
   "source": [
    "listOfReviewsWords[0]"
   ]
  },
  {
   "cell_type": "code",
   "execution_count": 11,
   "id": "4adad264-afb7-4347-b419-94591aebee0c",
   "metadata": {},
   "outputs": [],
   "source": [
    "from nltk.stem.porter import PorterStemmer\n",
    "#from nltk.stem import LancasterStemmer"
   ]
  },
  {
   "cell_type": "code",
   "execution_count": 12,
   "id": "be567a1d-de74-4c72-a6a3-7a0ff2b6ad42",
   "metadata": {},
   "outputs": [],
   "source": [
    "p_stemmer = PorterStemmer()"
   ]
  },
  {
   "cell_type": "code",
   "execution_count": 13,
   "id": "e22782a2-1205-4b72-b632-9e6bbd89862e",
   "metadata": {},
   "outputs": [],
   "source": [
    "listOfStemmedWords = []\n",
    "for i in listOfReviewsWords:\n",
    "    listOfStemmedWords.append([p_stemmer.stem(w) for w in i])"
   ]
  },
  {
   "cell_type": "code",
   "execution_count": 14,
   "id": "6a78f06c-350c-4823-aced-e3e50e21e437",
   "metadata": {},
   "outputs": [
    {
     "data": {
      "text/plain": [
       "['give',\n",
       " 'five',\n",
       " 'star',\n",
       " 'absolut',\n",
       " 'love',\n",
       " 'movi',\n",
       " 'favorit',\n",
       " 'thing',\n",
       " 'watch',\n",
       " 'liter',\n",
       " 'watch',\n",
       " 'everi',\n",
       " 'day',\n",
       " 'get',\n",
       " 'chanc',\n",
       " 'absolut',\n",
       " 'love',\n",
       " 'best',\n",
       " 'thing',\n",
       " 'ever',\n",
       " 'read',\n",
       " 'look',\n",
       " 'profil',\n",
       " 'pictur',\n",
       " 'top',\n",
       " 'liter',\n",
       " 'regina',\n",
       " 'georg',\n",
       " 'liter',\n",
       " 'much',\n",
       " 'love',\n",
       " 'movi']"
      ]
     },
     "execution_count": 14,
     "metadata": {},
     "output_type": "execute_result"
    }
   ],
   "source": [
    "listOfStemmedWords[0]"
   ]
  },
  {
   "cell_type": "code",
   "execution_count": 15,
   "id": "fde79eb5-99cc-4d90-a540-34ea16b2c02c",
   "metadata": {},
   "outputs": [
    {
     "name": "stdout",
     "output_type": "stream",
     "text": [
      "Collecting gensim\n",
      "  Downloading gensim-4.1.2-cp39-cp39-manylinux_2_12_x86_64.manylinux2010_x86_64.whl (24.0 MB)\n",
      "\u001b[K     |████████████████████████████████| 24.0 MB 19.5 MB/s eta 0:00:01\n",
      "\u001b[?25hCollecting smart-open>=1.8.1\n",
      "  Downloading smart_open-5.2.1-py3-none-any.whl (58 kB)\n",
      "\u001b[K     |████████████████████████████████| 58 kB 1.8 MB/s  eta 0:00:01\n",
      "\u001b[?25hRequirement already satisfied: numpy>=1.17.0 in /opt/conda/lib/python3.9/site-packages (from gensim) (1.20.3)\n",
      "Requirement already satisfied: scipy>=0.18.1 in /opt/conda/lib/python3.9/site-packages (from gensim) (1.7.1)\n",
      "Installing collected packages: smart-open, gensim\n",
      "Successfully installed gensim-4.1.2 smart-open-5.2.1\n"
     ]
    }
   ],
   "source": [
    "!pip install gensim"
   ]
  },
  {
   "cell_type": "code",
   "execution_count": 16,
   "id": "335a6a7e-7a2d-47d2-ab12-f3a2023f2930",
   "metadata": {},
   "outputs": [],
   "source": [
    "from gensim import corpora, models\n",
    "import gensim"
   ]
  },
  {
   "cell_type": "code",
   "execution_count": 17,
   "id": "90a01ac7-68d8-4905-ae3e-9ba3415c3092",
   "metadata": {},
   "outputs": [],
   "source": [
    "dictionary = corpora.Dictionary(listOfStemmedWords)"
   ]
  },
  {
   "cell_type": "code",
   "execution_count": 18,
   "id": "1182e470-347d-42e2-b0ca-41770ebb0019",
   "metadata": {},
   "outputs": [
    {
     "name": "stdout",
     "output_type": "stream",
     "text": [
      "{'absolut': 0, 'best': 1, 'chanc': 2, 'day': 3, 'ever': 4, 'everi': 5, 'favorit': 6, 'five': 7, 'georg': 8, 'get': 9, 'give': 10, 'liter': 11, 'look': 12, 'love': 13, 'movi': 14, 'much': 15, 'pictur': 16, 'profil': 17, 'read': 18, 'regina': 19, 'star': 20, 'thing': 21, 'top': 22, 'watch': 23, 'act': 24, 'ago': 25, 'although': 26, 'back': 27, 'behind': 28, 'charact': 29, 'definit': 30, 'even': 31, 'face': 32, 'front': 33, 'girl': 34, 'great': 35, 'honestli': 36, 'job': 37, 'long': 38, 'lot': 39, 'mean': 40, 'nice': 41, 'person': 42, 'realli': 43, 'sequel': 44, 'show': 45, 'sort': 46, 'still': 47, 'talk': 48, 'think': 49, 'though': 50, 'way': 51, 'whole': 52, 'wish': 53, 'comedi': 54, 'drama': 55, 'entertain': 56, 'go-to': 57, 'middl': 58, 'overal': 59, 'school': 60, 'sleepov': 61, \"'d\": 62, 'actor': 63, 'actress': 64, 'also': 65, 'first': 66, 'go': 67, 'hard': 68, 'interest': 69, 'laugh': 70, 'lost': 71, 'never': 72, 'perform': 73, 'spot': 74, 'stori': 75, 'classic': 76, 'fave': 77, 'free': 78, 'im': 79, 'quotabl': 80, 'realist': 81, 'unforgett': 82, 'base': 83, 'film': 84, 'grab': 85, 'juliet': 86, 'know': 87, 'mani': 88, 'obvious': 89, 'origin': 90, 'play': 91, 'plot': 92, 'romeo': 93, 'shakespearean': 94, 'tissu': 95, 'twist': 96, '50': 97, 'accur': 98, 'bring': 99, 'citi': 100, 'enabl': 101, 'immigr': 102, 'new': 103, 'plight': 104, 'previou': 105, 'repres': 106, 'reson': 107, 'screen': 108, 'set': 109, 'stage': 110, 'street': 111, 'version': 112, 'york': 113, '1961': 114, 'ace': 115, 'adam': 116, 'adapt': 117, 'adult': 118, 'answer': 119, 'arguabl': 120, 'baker': 121, 'beymer': 122, 'case': 123, 'cast': 124, 'earlier': 125, 'fault': 126, 'fix': 127, 'former': 128, 'hometown': 129, 'ignomini': 130, 'josh': 131, 'latest': 132, 'latinx': 133, 'lead': 134, 'make': 135, 'member': 136, 'natali': 137, 'necessarili': 138, 'notabl': 139, 'otherwis': 140, 'pair': 141, 'plu': 142, 'red': 143, 'return': 144, 'rever': 145, 'review': 146, 'rex': 147, 'richard': 148, 'rocket': 149, 'romant': 150, 'sean': 151, 'simon': 152, 'sing': 153, 'spielberg': 154, 'texa': 155, 'thrill': 156, 'weak': 157, 'weakest': 158, 'white': 159, 'without': 160, 'wood': 161, 'yet': 162, '’': 163, 'alreadi': 164, 'appar': 165, 'better': 166, 'changes/': 167, 'cool': 168, 'craftsmanship': 169, 'exactli': 170, 'feel': 171, 'hell': 172, 'imposs': 173, 'music': 174, 'nearli': 175, 'need': 176, 'old': 177, 'pretti': 178, 'updat': 179, 'work': 180, 'actual': 181, 'area': 182, \"b'way\": 183, 'backdrop': 184, 'entir': 185, 'fantast': 186, 'gave': 187, 'gravita': 188, 'heard': 189, 'includ': 190, 'involv': 191, 'like': 192, 'move': 193, 'neighborhood': 194, 'record': 195, 'redevelop': 196, 'see': 197, 'seen': 198, 'sever': 199, 'thank': 200, 'time': 201, 'us': 202, 'wonder': 203}\n"
     ]
    }
   ],
   "source": [
    "print(dictionary.token2id)"
   ]
  },
  {
   "cell_type": "code",
   "execution_count": 19,
   "id": "0803b136-7d21-409f-a5f6-4531c670a529",
   "metadata": {},
   "outputs": [],
   "source": [
    "corpus = [dictionary.doc2bow(text) for text in listOfStemmedWords]"
   ]
  },
  {
   "cell_type": "code",
   "execution_count": 44,
   "id": "1342473a-5541-4620-a870-0a23315de387",
   "metadata": {},
   "outputs": [
    {
     "name": "stdout",
     "output_type": "stream",
     "text": [
      "10\n"
     ]
    }
   ],
   "source": [
    "print(len(corpus))"
   ]
  },
  {
   "cell_type": "code",
   "execution_count": 45,
   "id": "d249c87e-11a4-4e65-9104-66f68b496d7b",
   "metadata": {},
   "outputs": [
    {
     "name": "stdout",
     "output_type": "stream",
     "text": [
      "204\n"
     ]
    }
   ],
   "source": [
    "print(len(dictionary))"
   ]
  },
  {
   "cell_type": "code",
   "execution_count": 24,
   "id": "988ddf47-e680-4876-9371-d2c8bd1efa67",
   "metadata": {},
   "outputs": [],
   "source": [
    "ldamodel = gensim.models.ldamodel.LdaModel(corpus, \n",
    "                                           num_topics=2, \n",
    "                                           id2word = dictionary, \n",
    "                                           passes=20)"
   ]
  },
  {
   "cell_type": "code",
   "execution_count": 47,
   "id": "662b423c-adc3-4077-9124-ab8d2d49065e",
   "metadata": {},
   "outputs": [
    {
     "name": "stdout",
     "output_type": "stream",
     "text": [
      "(0, '0.020*\"’\" + 0.019*\"movi\" + 0.016*\"charact\" + 0.011*\"make\" + 0.011*\"adapt\" + 0.011*\"film\" + 0.011*\"still\" + 0.011*\"without\" + 0.011*\"cast\" + 0.007*\"actor\" + 0.007*\"realli\" + 0.007*\"star\" + 0.007*\"spielberg\" + 0.007*\"regina\" + 0.007*\"favorit\" + 0.007*\"georg\" + 0.007*\"think\" + 0.007*\"answer\" + 0.007*\"ace\" + 0.007*\"beymer\"')\n",
      "(1, '0.029*\"movi\" + 0.024*\"film\" + 0.017*\"new\" + 0.013*\"love\" + 0.013*\"watch\" + 0.013*\"origin\" + 0.013*\"liter\" + 0.013*\"version\" + 0.013*\"stage\" + 0.013*\"interest\" + 0.010*\"absolut\" + 0.010*\"classic\" + 0.009*\"give\" + 0.009*\"even\" + 0.009*\"day\" + 0.009*\"great\" + 0.009*\"see\" + 0.009*\"thing\" + 0.009*\"music\" + 0.009*\"think\"')\n"
     ]
    }
   ],
   "source": [
    "for i in ldamodel.print_topics(num_topics=2, num_words=20):\n",
    "    print(i)"
   ]
  },
  {
   "cell_type": "markdown",
   "id": "ff13917a-65d2-4038-b085-19d0dccceafb",
   "metadata": {},
   "source": [
    "**Comment on the model:**\n",
    "- The model split does not really represent my choice between comedy and drama well, as both of the split contains words from either of the reviews of both comedy and drama.\n",
    "- For example, the first split has both spielberg and regina (which is part of the different movies that I selected)\n",
    "- This may be because Mean Girls is somewhat of a comedy drama and not completely drama, so the theme could be mixed.\n",
    "- The model split is a better split when looking that they are between words that mention the characters, director, and cast of the movies vs words that mention the origin, story, and production of the movie."
   ]
  }
 ],
 "metadata": {
  "kernelspec": {
   "display_name": "Python 3 (ipykernel)",
   "language": "python",
   "name": "python3"
  },
  "language_info": {
   "codemirror_mode": {
    "name": "ipython",
    "version": 3
   },
   "file_extension": ".py",
   "mimetype": "text/x-python",
   "name": "python",
   "nbconvert_exporter": "python",
   "pygments_lexer": "ipython3",
   "version": "3.9.6"
  }
 },
 "nbformat": 4,
 "nbformat_minor": 5
}
