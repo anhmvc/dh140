{
 "cells": [
  {
   "cell_type": "markdown",
   "id": "6d0cac8c-20bb-47d6-a965-2cde797590b7",
   "metadata": {},
   "source": [
    "# Network Analysis\n",
    "- Take the Shakespeare play you've previously been analyzing and construct a network visualization\n",
    "- If you've been analyzing Macbeth, choose another play -- I will ask you to re-do the assignment if you use the same example from the lecture notebooks\n",
    "- You are welcome to use any or all of NetworkX, Bokeh, or Dash Cytoscape\n",
    "- You are also free to determine the information from the play that you use for nodes and edges\n",
    "- You must clarify (in markdown cells) what information is contained in the graph and how you are measuring it\n",
    "- Also include a description (via markdown cells) of the network's density and the \"most important\" nodes\n",
    "- You can choose what \"most important\" means, but use a quantitative metric and include this metric's value(s) in your description\n",
    "- Tailor the graph's aesthetics to enhance the visualization"
   ]
  },
  {
   "cell_type": "markdown",
   "id": "511cb440-b10e-4b38-b716-9002b4ab10f2",
   "metadata": {},
   "source": [
    "## Setting up libraries and Dash"
   ]
  },
  {
   "cell_type": "code",
   "execution_count": 1,
   "id": "841ed497-2798-4c90-b944-2620223552ae",
   "metadata": {},
   "outputs": [],
   "source": [
    "import dash\n",
    "import dash_cytoscape as cyto\n",
    "from dash import html, dcc\n",
    "from dash.dependencies import Input, Output\n",
    "from jupyter_dash import JupyterDash\n",
    "from jupyter_dash.comms import _send_jupyter_config_comm_request"
   ]
  },
  {
   "cell_type": "code",
   "execution_count": 2,
   "id": "9fed7786-43fd-48b5-aa37-84a2896d7755",
   "metadata": {},
   "outputs": [],
   "source": [
    "_send_jupyter_config_comm_request()"
   ]
  },
  {
   "cell_type": "code",
   "execution_count": 37,
   "id": "ae2ed7aa-d548-4a1b-9088-cd29c027cdfb",
   "metadata": {},
   "outputs": [],
   "source": [
    "JupyterDash.infer_jupyter_proxy_config()"
   ]
  },
  {
   "cell_type": "code",
   "execution_count": 38,
   "id": "0ddd547e-0016-43a2-b6ee-c4c8608f1d0f",
   "metadata": {},
   "outputs": [],
   "source": [
    "with open('romeo-and-juliet.txt') as f:\n",
    "    x = f.read()"
   ]
  },
  {
   "cell_type": "markdown",
   "id": "f9574fde-b500-4422-a046-8674b1ede92d",
   "metadata": {},
   "source": [
    "## Cleaning text"
   ]
  },
  {
   "cell_type": "markdown",
   "id": "96a714b5-d589-45c4-837d-e0052f49e8b7",
   "metadata": {},
   "source": [
    "I first removed the publisher notes from the end of the text, then proceeded to remove the prologue from the beginning of the text to extract only the Acts of the play."
   ]
  },
  {
   "cell_type": "code",
   "execution_count": 39,
   "id": "4d997768-e5ff-41ac-b1f2-4a6e5ad51f9c",
   "metadata": {},
   "outputs": [],
   "source": [
    "removed_publisher = x.split('THE END')[0]\n",
    "acts = removed_publisher.split('ACT')[1:6]"
   ]
  },
  {
   "cell_type": "code",
   "execution_count": 40,
   "id": "94ac6488-8049-4b24-9091-f0b5f23cbc03",
   "metadata": {},
   "outputs": [
    {
     "data": {
      "text/plain": [
       "5"
      ]
     },
     "execution_count": 40,
     "metadata": {},
     "output_type": "execute_result"
    }
   ],
   "source": [
    "len(acts)"
   ]
  },
  {
   "cell_type": "markdown",
   "id": "ffe3906b-b8f2-4208-b6a5-46e3f26b6a4d",
   "metadata": {},
   "source": [
    "## Setting up constants and dictionaries"
   ]
  },
  {
   "cell_type": "code",
   "execution_count": 72,
   "id": "1a8a763d-d101-4785-a888-72812e911261",
   "metadata": {},
   "outputs": [],
   "source": [
    "characters = [\n",
    "    'Escalus',\n",
    "    'Paris',\n",
    "    'Montague',\n",
    "    'Capulet',\n",
    "    'An old Man',\n",
    "    'Romeo',\n",
    "    'Tybalt',\n",
    "    'Mercutio',\n",
    "    'Benvolio',\n",
    "    'Tybalt',\n",
    "    'Friar Laurence',\n",
    "    'Friar John',\n",
    "    'Balthasar',\n",
    "    'Abram',\n",
    "    'Sampson',\n",
    "    'Gregory',\n",
    "    'Peter',\n",
    "    'Lady Montague',\n",
    "    'Lady Capulet',\n",
    "    'Juliet',\n",
    "    'Nurse to Juliet'\n",
    "]"
   ]
  },
  {
   "cell_type": "code",
   "execution_count": 73,
   "id": "bdae19a0-4234-4726-96b5-986e58ad935a",
   "metadata": {},
   "outputs": [],
   "source": [
    "connections = {}\n",
    "for i in range(len(characters)-1):\n",
    "    for j in range(i+1,len(characters)):\n",
    "        connections[(characters[i],characters[j])] = 0"
   ]
  },
  {
   "cell_type": "code",
   "execution_count": 74,
   "id": "6a1d32ce-f5b5-4202-a033-2c8986639b60",
   "metadata": {},
   "outputs": [],
   "source": [
    "charnum = {}\n",
    "for k in characters:\n",
    "    charnum[k] = 0"
   ]
  },
  {
   "cell_type": "markdown",
   "id": "610c41ae-73dd-492a-ae4f-47ce3feb90e3",
   "metadata": {},
   "source": [
    "## Processing text\n",
    "_Dictionary format -- connections : { character: # of times appeared }_\n",
    "\n",
    "\n",
    "The for loops go through every scene in all the acts, then look at every character and count the number of times that character appears in that scene."
   ]
  },
  {
   "cell_type": "code",
   "execution_count": 75,
   "id": "c1d1ff04-d233-4206-9134-0e5612e2b95e",
   "metadata": {},
   "outputs": [],
   "source": [
    "for act in acts:\n",
    "    for scene in act.split(\"Scene\"):\n",
    "        dict = {}\n",
    "        for char in characters:\n",
    "            if scene.count(char) != 0:\n",
    "                dict[char] = scene.count(char)\n",
    "                charnum[char] += scene.count(char)\n",
    "        for a in range(len(dict)-1):\n",
    "            for b in range(a+1,len(dict)):\n",
    "                if dict[list(dict.keys())[a]] <= dict[list(dict.keys())[b]]:\n",
    "                    connections[(list(dict.keys())[a],list(dict.keys())[b])] += dict[list(dict.keys())[a]]\n",
    "                else: \n",
    "                    connections[(list(dict.keys())[a],list(dict.keys())[b])] += dict[list(dict.keys())[b]]"
   ]
  },
  {
   "cell_type": "markdown",
   "id": "f6da6af6-98e5-433e-8046-4e9fa93039e5",
   "metadata": {},
   "source": [
    "Removing dictionary entries that are zero."
   ]
  },
  {
   "cell_type": "code",
   "execution_count": 76,
   "id": "d65548f7-3018-48ab-90e5-84959378051b",
   "metadata": {},
   "outputs": [],
   "source": [
    "charnum = {name:count for name,count in charnum.items() if count != 0}\n",
    "connections = {(source,target):weight for (source,target),weight in connections.items()\n",
    "              if weight != 0}"
   ]
  },
  {
   "cell_type": "markdown",
   "id": "465ecd85-2c83-46f1-91f3-3b57a880aab9",
   "metadata": {},
   "source": [
    "Convert the dictionaries into graph items, using a correction factor for clarity."
   ]
  },
  {
   "cell_type": "code",
   "execution_count": 77,
   "id": "b9827877-5018-4b9f-bc99-1d33cbebd705",
   "metadata": {},
   "outputs": [],
   "source": [
    "graphitems = []\n",
    "\n",
    "for k,v in charnum.items():\n",
    "    dashnode = {'data': {'id': k,\n",
    "                         'label': k.title(),\n",
    "                         'size': str(v)}}\n",
    "    graphitems.append(dashnode)\n",
    "\n",
    "correction_factor = max(connections.values())\n",
    "\n",
    "for k,v in connections.items():\n",
    "    if v != 0:\n",
    "        dashedge = {'data': {'source': k[0],\n",
    "                             'target': k[1],\n",
    "                             'weight': v/correction_factor}}\n",
    "        graphitems.append(dashedge)"
   ]
  },
  {
   "cell_type": "code",
   "execution_count": 78,
   "id": "8106e0f0-ae13-46e5-bdf9-0c16aa9cdb91",
   "metadata": {},
   "outputs": [
    {
     "name": "stdout",
     "output_type": "stream",
     "text": [
      "Dash app running on https://jupyter.idre.ucla.edu/user/anhmvc@ucla.edu/proxy/8050/\n"
     ]
    }
   ],
   "source": [
    "app = JupyterDash(__name__)\n",
    "\n",
    "app.layout = html.Div([\n",
    "    cyto.Cytoscape(\n",
    "        layout={'name': 'cose'},\n",
    "        elements=graphitems,\n",
    "        style={'width': '100%', 'height': '750px'},\n",
    "        stylesheet=[\n",
    "            {\n",
    "                'selector': 'node',\n",
    "                'style': {\n",
    "                    'content':'data(label)',\n",
    "                    'text-halign':'center',\n",
    "                    'text-valign':'center',\n",
    "                    'width': 'data(size)',\n",
    "                    'height': 'data(size)',\n",
    "                    'font-size':5,\n",
    "                    'color': 'black',\n",
    "                    'background-color': '#30bf7a',\n",
    "                    'text-outline-color': 'white',\n",
    "                    'text-outline-width': 0.2,\n",
    "                    'shape':'circle'\n",
    "                }\n",
    "            },\n",
    "            {\n",
    "                'selector':'edge',\n",
    "                'style': {\n",
    "                    'width':'data(weight)',\n",
    "                    'line-color': '#f5b236',\n",
    "                  }\n",
    "            },\n",
    "        ]\n",
    "    )\n",
    "])\n",
    "\n",
    "app.run_server(debug=True)"
   ]
  },
  {
   "cell_type": "markdown",
   "id": "e4e1a4f9-5f42-4719-a417-e61a9e0f1e8c",
   "metadata": {},
   "source": [
    "## Notes and Comments on Network Visualization\n",
    "\n",
    "- Every node represents **a character** and its size represents **the number of times they appear in the play**.\n",
    "- Every edge represents **the number of times any two characters appear together in a scene**.\n",
    "- For example: string \"romeo fights tybalt so that juliet can fall in love with romeo\", the node \"romeo\" appears 2 times, the node \"tybalt\" and \"juliet\" each appears once, and the edge (romeo, juliet) appears 2 times, edge (juliet, tybalt) and edge (romeo, tybalt) appear once.\n",
    "\n",
    "Regarding the network density, when looking at the visualization:\n",
    "- The most dominant nodes are \"Romeo\" and \"Tybalt\", followed by \"Juliet\", \"Capulet\", \"Montague\", \"Mercutio\", and \"Paris\". \n",
    "- The thickest edges are between \"Romeo\" & \"Tybalt\", and \"Romeo\" & \"Juliet\".\n",
    "- It should be noted that Tybalt actually appears in the play a lot more than Juliet, this may give rise to the not-so-surprising gender inequality during the times that the play was written. It highlights especially that even though Juliet was supposed to be the main character along with Romeo, she doesn't get much lines and presence despite her role in the story."
   ]
  }
 ],
 "metadata": {
  "kernelspec": {
   "display_name": "Python 3 (ipykernel)",
   "language": "python",
   "name": "python3"
  },
  "language_info": {
   "codemirror_mode": {
    "name": "ipython",
    "version": 3
   },
   "file_extension": ".py",
   "mimetype": "text/x-python",
   "name": "python",
   "nbconvert_exporter": "python",
   "pygments_lexer": "ipython3",
   "version": "3.9.6"
  }
 },
 "nbformat": 4,
 "nbformat_minor": 5
}
